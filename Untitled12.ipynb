{
 "cells": [
  {
   "cell_type": "code",
   "execution_count": 5,
   "id": "98de0585-8aa5-4e31-95fa-8f95baac93f3",
   "metadata": {},
   "outputs": [
    {
     "name": "stdin",
     "output_type": "stream",
     "text": [
      "enter the length of the rectangle 7\n",
      "enter the breadth of the rectangle 6\n"
     ]
    },
    {
     "name": "stdout",
     "output_type": "stream",
     "text": [
      "the area of the rectangle is: 42\n",
      "the perimeter of the rectangle is: 26\n"
     ]
    }
   ],
   "source": [
    "class rectangle:\n",
    "  def __init__(self,length,breadth):\n",
    "    self.length=length\n",
    "    self.breadth=breadth\n",
    "\n",
    "  def area(self):\n",
    "      return self.length*self.breadth\n",
    "  def perimeter(self):\n",
    "    return 2*(self.length+self.breadth)\n",
    "\n",
    "length=int(input(\"enter the length of the rectangle\"))\n",
    "breadth=int(input(\"enter the breadth of the rectangle\"))\n",
    "\n",
    "rect=rectangle(length,breadth)\n",
    "\n",
    "print(\"the area of the rectangle is:\",rect.area())\n",
    "print(\"the perimeter of the rectangle is:\",rect.perimeter())\n"
   ]
  },
  {
   "cell_type": "code",
   "execution_count": null,
   "id": "30fa87fd-7567-4d51-ab69-743aa2d9bd83",
   "metadata": {},
   "outputs": [],
   "source": [
    "class area_rect:\n",
    "    def __init__(self,l1,b1,l1,b2,r1,r2,c):\n",
    "        self.l1=l1\n",
    "        self.b1=b1\n",
    "        self.l2=l2\n",
    "        self.b2=b2\n",
    "        self.r1=r1\n",
    "        self.r2=r2"
   ]
  },
  {
   "cell_type": "code",
   "execution_count": 6,
   "id": "9761aeae-1349-419c-837d-3a8919f90eb4",
   "metadata": {},
   "outputs": [
    {
     "name": "stdin",
     "output_type": "stream",
     "text": [
      "Enter the width of the first rectangle:  6\n",
      "Enter the height of the first rectangle:  7\n",
      "Enter the width of the second rectangle:  8\n",
      "Enter the height of the second rectangle:  7\n"
     ]
    },
    {
     "name": "stdout",
     "output_type": "stream",
     "text": [
      "The areas of the two rectangles are not equal.\n"
     ]
    }
   ],
   "source": [
    "class Rectangle:\n",
    "    def __init__(self, width, height):\n",
    "        self.width = width\n",
    "        self.height = height\n",
    "    \n",
    "    \n",
    "    def area(self):\n",
    "        return self.width * self.height\n",
    "\n",
    "\n",
    "width1 = float(input(\"Enter the width of the first rectangle: \"))\n",
    "height1 = float(input(\"Enter the height of the first rectangle: \"))\n",
    "\n",
    "\n",
    "width2 = float(input(\"Enter the width of the second rectangle: \"))\n",
    "height2 = float(input(\"Enter the height of the second rectangle: \"))\n",
    "\n",
    "rect1 = Rectangle(width1, height1)\n",
    "rect2 = Rectangle(width2, height2)\n",
    "\n",
    "if rect1.area() == rect2.area():\n",
    "    print(\"The areas of the two rectangles are equal.\")\n",
    "else:\n",
    "    print(\"The areas of the two rectangles are not equal.\")\n"
   ]
  },
  {
   "cell_type": "code",
   "execution_count": null,
   "id": "4ea162a5-92d7-4bdf-944d-ce35da65e5a9",
   "metadata": {},
   "outputs": [],
   "source": []
  }
 ],
 "metadata": {
  "kernelspec": {
   "display_name": "Python 3",
   "language": "python",
   "name": "python3"
  },
  "language_info": {
   "codemirror_mode": {
    "name": "ipython",
    "version": 3
   },
   "file_extension": ".py",
   "mimetype": "text/x-python",
   "name": "python",
   "nbconvert_exporter": "python",
   "pygments_lexer": "ipython3",
   "version": "3.11.7"
  }
 },
 "nbformat": 4,
 "nbformat_minor": 5
}
