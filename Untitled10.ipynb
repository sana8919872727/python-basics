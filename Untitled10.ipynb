{
 "cells": [
  {
   "cell_type": "code",
   "execution_count": 7,
   "id": "e9d13fbd-01ad-47d9-928e-a319ce646f89",
   "metadata": {},
   "outputs": [
    {
     "name": "stdin",
     "output_type": "stream",
     "text": [
      "enter the whole number fdfsd\n"
     ]
    },
    {
     "name": "stdout",
     "output_type": "stream",
     "text": [
      "You must enter a whole number!\n"
     ]
    },
    {
     "name": "stdin",
     "output_type": "stream",
     "text": [
      "Do you want to try again? (y/n):  n\n"
     ]
    },
    {
     "name": "stdout",
     "output_type": "stream",
     "text": [
      "Ok, see you next time!\n"
     ]
    }
   ],
   "source": [
    "while True:\n",
    "    try:\n",
    "        a=input(\"enter the whole number\")\n",
    "        num=int(a)\n",
    "        print(f\"the entered number is{num}\")\n",
    "        break\n",
    "\n",
    "    except ValueError:\n",
    "        print(\"You must enter a whole number!\")\n",
    "        retry= input(\"Do you want to try again? (y/n): \")\n",
    "        \n",
    "        if retry != 'y':\n",
    "            print(\"Ok, see you next time!\")\n",
    "            break\n",
    "    except KeyboardInterrupt:\n",
    "        print(\"\\nYou pressed Ctrl+C! See you next time!\")\n",
    "        break\n"
   ]
  },
  {
   "cell_type": "code",
   "execution_count": 8,
   "id": "abd4be4b-d816-40e2-961c-6c44767ae491",
   "metadata": {},
   "outputs": [
    {
     "name": "stdin",
     "output_type": "stream",
     "text": [
      "Enter the age 44\n"
     ]
    },
    {
     "name": "stdout",
     "output_type": "stream",
     "text": [
      "executed in any condition\n"
     ]
    }
   ],
   "source": [
    "try:\n",
    "    age=int(input(\"Enter the age\"))\n",
    "    if age<0:\n",
    "        raise VlueError\n",
    "        print(f\"Age when doubled {age*2}\")\n",
    "except ValueError:\n",
    "    print(\"Age cannot be less than zero\")\n",
    "finally:\n",
    "    print(\"executed in any condition\")"
   ]
  },
  {
   "cell_type": "code",
   "execution_count": 13,
   "id": "f2389670-790b-4ecb-95a8-b818e0f2c4d7",
   "metadata": {},
   "outputs": [
    {
     "name": "stdin",
     "output_type": "stream",
     "text": [
      "Enter the value of a:  9\n",
      "Enter the value of b:  0\n"
     ]
    },
    {
     "name": "stdout",
     "output_type": "stream",
     "text": [
      "Raised an User-defined Exception: b should be greater than 0. You entered: 0.0\n"
     ]
    }
   ],
   "source": [
    "class OurException(Exception):\n",
    "    def __init__(self, message):\n",
    "        self.message = message\n",
    "class UsingUserException:\n",
    "    def divide(self):\n",
    "        try:\n",
    "            a = float(input(\"Enter the value of a: \"))\n",
    "            b = float(input(\"Enter the value of b: \"))\n",
    "            \n",
    "            if b == 0:\n",
    "                raise OurException(f\"b should be greater than 0. You entered: {b}\")\n",
    "            \n",
    "        \n",
    "            d = a / b\n",
    "            print(f\"Division operation successful with result: {d}\")\n",
    "        \n",
    "        except OurException as err:\n",
    "            print(\"Raised an User-defined Exception:\", err.message)\n",
    "\n",
    "obj = UsingUserException()\n",
    "obj.divide()\n",
    "\n"
   ]
  },
  {
   "cell_type": "code",
   "execution_count": null,
   "id": "b13c1ce2-beab-4698-b3c2-6ef2989f36c7",
   "metadata": {},
   "outputs": [],
   "source": []
  }
 ],
 "metadata": {
  "kernelspec": {
   "display_name": "Python 3",
   "language": "python",
   "name": "python3"
  },
  "language_info": {
   "codemirror_mode": {
    "name": "ipython",
    "version": 3
   },
   "file_extension": ".py",
   "mimetype": "text/x-python",
   "name": "python",
   "nbconvert_exporter": "python",
   "pygments_lexer": "ipython3",
   "version": "3.11.7"
  }
 },
 "nbformat": 4,
 "nbformat_minor": 5
}
