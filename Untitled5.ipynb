{
 "cells": [
  {
   "cell_type": "markdown",
   "id": "1ff0fd3c-ef4b-434b-8cfc-8459db1b9f25",
   "metadata": {},
   "source": [
    "ROLL NUMBER:15\n",
    "SECTION:K24ML"
   ]
  },
  {
   "cell_type": "markdown",
   "id": "d6712052-84c5-4674-84e3-e9ed0ea5cb83",
   "metadata": {},
   "source": [
    "write a python program to demonstate the use of conditional stmt and exception handling.task to create pay computation program to give employee\n",
    "1.5 times the hourly worked above 40 hours\n",
    "a. hours=45\n",
    "    rate=10\n",
    "    pay=475\n",
    "b.hours=forty five \n",
    "  rate=ten\n",
    "  kindly enter the values in numeric form\n"
   ]
  },
  {
   "cell_type": "code",
   "execution_count": 24,
   "id": "4a9d980b-d598-4a5e-9b10-ccf96cf078ff",
   "metadata": {},
   "outputs": [
    {
     "name": "stdin",
     "output_type": "stream",
     "text": [
      "enter the number of hours worked 20\n",
      "enter the price per hour 10\n"
     ]
    },
    {
     "name": "stdout",
     "output_type": "stream",
     "text": [
      "pay: 200\n"
     ]
    }
   ],
   "source": [
    "time=input(\"enter the number of hours worked\")\n",
    "price=input(\"enter the price per hour\")\n",
    "try:\n",
    "    time=int(time)\n",
    "    price=int(price)\n",
    "    if time<=40:\n",
    "        pay=time*price\n",
    "        print(\"pay:\",pay)\n",
    "    elif time>40:\n",
    "         extra_hours=time-40\n",
    "         pay=40*10+(extra_hours*price*1.5)\n",
    "         print(\"pay:\",pay)\n",
    "except:\n",
    "    print(\"kindly enter the values in numeric form\")"
   ]
  },
  {
   "cell_type": "code",
   "execution_count": null,
   "id": "abab5e52-2c88-44eb-9763-14d58e731020",
   "metadata": {},
   "outputs": [],
   "source": []
  }
 ],
 "metadata": {
  "kernelspec": {
   "display_name": "Python 3",
   "language": "python",
   "name": "python3"
  },
  "language_info": {
   "codemirror_mode": {
    "name": "ipython",
    "version": 3
   },
   "file_extension": ".py",
   "mimetype": "text/x-python",
   "name": "python",
   "nbconvert_exporter": "python",
   "pygments_lexer": "ipython3",
   "version": "3.11.7"
  }
 },
 "nbformat": 4,
 "nbformat_minor": 5
}
