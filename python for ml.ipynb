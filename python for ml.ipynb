{
 "cells": [
  {
   "cell_type": "code",
   "execution_count": 3,
   "id": "8950ba49-c008-4d01-8223-7a4d05f885a8",
   "metadata": {},
   "outputs": [
    {
     "name": "stdout",
     "output_type": "stream",
     "text": [
      "<class 'float'>\n"
     ]
    }
   ],
   "source": [
    "print(type(2.23))"
   ]
  },
  {
   "cell_type": "code",
   "execution_count": 2,
   "id": "ca3d4584-645f-4130-bc55-d3189e568cad",
   "metadata": {},
   "outputs": [
    {
     "name": "stdout",
     "output_type": "stream",
     "text": [
      "<class 'str'>\n"
     ]
    }
   ],
   "source": [
    "print(type(\"this is a string\"))"
   ]
  },
  {
   "cell_type": "code",
   "execution_count": 9,
   "id": "4c9c7058-b04d-4df0-b48c-ac021885a888",
   "metadata": {},
   "outputs": [
    {
     "name": "stdin",
     "output_type": "stream",
     "text": [
      "enter kgs: 5\n"
     ]
    },
    {
     "name": "stdout",
     "output_type": "stream",
     "text": [
      "the5.0 in lbs11.023\n"
     ]
    }
   ],
   "source": [
    "kg=float(input(\"enter kgs:\"))\n",
    "lbs=kg*2.2046\n",
    "print(f\"the{kg} in lbs{lbs}\")"
   ]
  },
  {
   "cell_type": "code",
   "execution_count": 12,
   "id": "d825bd33-ef68-4759-be74-f9c79208e6e1",
   "metadata": {},
   "outputs": [
    {
     "name": "stdin",
     "output_type": "stream",
     "text": [
      " 5.6\n"
     ]
    },
    {
     "name": "stdout",
     "output_type": "stream",
     "text": [
      "the circumference of circle 35.168 \n"
     ]
    }
   ],
   "source": [
    "pi=3.14\n",
    "r=float(input())\n",
    "c=2*pi*r\n",
    "print(f\"the circumference of circle {c} \")"
   ]
  },
  {
   "cell_type": "code",
   "execution_count": 25,
   "id": "6b657715-4f4c-44c0-9e6d-25e67605ae72",
   "metadata": {},
   "outputs": [
    {
     "name": "stdout",
     "output_type": "stream",
     "text": [
      "2\n"
     ]
    }
   ],
   "source": [
    "s=2\n",
    "a=s*3\n",
    "b=a+6\n",
    "c=b//3\n",
    "d=c-s\n",
    "print(d)"
   ]
  },
  {
   "cell_type": "code",
   "execution_count": 27,
   "id": "dcca4628-87db-4205-94f6-f1653d134bf3",
   "metadata": {},
   "outputs": [
    {
     "name": "stdin",
     "output_type": "stream",
     "text": [
      "enter a value 2\n",
      "enter b value 5\n"
     ]
    },
    {
     "name": "stdout",
     "output_type": "stream",
     "text": [
      "10\n"
     ]
    }
   ],
   "source": [
    "a=int(input(\"enter a value\"))\n",
    "b=int(input(\"enter b value\"))\n",
    "print(a*b)"
   ]
  },
  {
   "cell_type": "code",
   "execution_count": 4,
   "id": "748bb929-aa46-461e-9e3c-42d95a21d8cc",
   "metadata": {},
   "outputs": [
    {
     "name": "stdin",
     "output_type": "stream",
     "text": [
      "enter age: 5\n"
     ]
    },
    {
     "name": "stdout",
     "output_type": "stream",
     "text": [
      "1825\n",
      "43800\n",
      "2628000\n",
      "157680000\n"
     ]
    }
   ],
   "source": [
    "age=input(\"enter age:\")\n",
    "days=int(age)*365\n",
    "print(days)\n",
    "hours=days*24\n",
    "print(hours)\n",
    "min=hours*60\n",
    "print(min)\n",
    "sec=min*60\n",
    "print(sec)\n",
    "        "
   ]
  },
  {
   "cell_type": "code",
   "execution_count": 6,
   "id": "9d73c56d-913a-40ca-bc38-ff4e4e1bf68e",
   "metadata": {},
   "outputs": [
    {
     "name": "stdin",
     "output_type": "stream",
     "text": [
      "enter the price: 1000\n",
      "enter the tip willing to give: 10\n"
     ]
    },
    {
     "name": "stdout",
     "output_type": "stream",
     "text": [
      "100.0\n"
     ]
    }
   ],
   "source": [
    "price=int(input(\"enter the price:\"))\n",
    "tip_percentage=float(input(\"enter the tip willing to give:\"))\n",
    "tip=price*tip_percentage//100\n",
    "print(tip)\n",
    "\n"
   ]
  },
  {
   "cell_type": "code",
   "execution_count": 4,
   "id": "b94a5abd-de8a-4d2f-b360-d134ea191439",
   "metadata": {},
   "outputs": [
    {
     "name": "stdin",
     "output_type": "stream",
     "text": [
      "enter the hours of work to do: 5.5\n",
      "enter the cost per hour: 300\n"
     ]
    },
    {
     "name": "stdout",
     "output_type": "stream",
     "text": [
      "1650\n"
     ]
    }
   ],
   "source": [
    "hours=float(input(\"enter the hours of work to do:\"))\n",
    "price=float(input(\"enter the cost per hour:\"))\n",
    "grosspay=hour*price\n",
    "print(int(grosspay))"
   ]
  },
  {
   "cell_type": "code",
   "execution_count": 12,
   "id": "fd165624-ab6e-4e1d-bea6-41882f5de139",
   "metadata": {},
   "outputs": [
    {
     "name": "stdin",
     "output_type": "stream",
     "text": [
      "enter the hours of work to do: 30\n",
      "enter the cost per hour: 5\n"
     ]
    },
    {
     "name": "stdout",
     "output_type": "stream",
     "text": [
      "150.0\n"
     ]
    }
   ],
   "source": [
    "hours=float(input(\"enter the hours of work to do:\"))\n",
    "price=float(input(\"enter the cost per hour:\"))\n",
    "if hours>40:\n",
    "    time=hours-40\n",
    "    grosspay=40*price+(time*(price*1.5))\n",
    "    print(f\"grosspay is increased for 1.5 times for the work of 40 hours{int(grosspay)}\")\n",
    "else:\n",
    "    grosspay=hours*price\n",
    "    print(grosspay)"
   ]
  },
  {
   "cell_type": "code",
   "execution_count": null,
   "id": "9e1e02d8-5977-456c-ae38-193096fcc645",
   "metadata": {},
   "outputs": [],
   "source": [
    "car_market_price=float(input(\"enter car market price:\")\n",
    "gender=input(\"enter male or female:\")\n",
    "age=float(input(\"enter your age:\")\n",
    "insurence_claim=car_market_price*insurence_percentage//100\n",
    "if(gender==male):\n",
    "    if(age<=26):\n",
    "        insurence_percentage=23\n",
    "        print(insurence_claim)\n",
    "    else:\n",
    "        insurence_percentage=9\n",
    "        print(insurence_claim)\n",
    "elif(gender==female):\n",
    "    car_type=input(\"enter car type sports or non sports\")\n",
    "    if(car_type=\"sports\"):\n",
    "        insurence_percentage=21\n",
    "        print(insurence_claim)\n",
    "    else:\n",
    "        insurence_percentage=10\n",
    "        print(insurence_claim)\n",
    "else:\n",
    "    print(\"enter the details correctly:\")"
   ]
  },
  {
   "cell_type": "code",
   "execution_count": null,
   "id": "56408c42-b766-4b98-9f7b-bfd6944d6568",
   "metadata": {},
   "outputs": [],
   "source": []
  }
 ],
 "metadata": {
  "kernelspec": {
   "display_name": "Python 3",
   "language": "python",
   "name": "python3"
  },
  "language_info": {
   "codemirror_mode": {
    "name": "ipython",
    "version": 3
   },
   "file_extension": ".py",
   "mimetype": "text/x-python",
   "name": "python",
   "nbconvert_exporter": "python",
   "pygments_lexer": "ipython3",
   "version": "3.11.7"
  }
 },
 "nbformat": 4,
 "nbformat_minor": 5
}
