{
 "cells": [
  {
   "cell_type": "code",
   "execution_count": 3,
   "id": "b1d3a749-52f8-4fa2-8f26-2c2a97ebba7a",
   "metadata": {},
   "outputs": [],
   "source": [
    "class InsufficientFundsError(Exception):\n",
    "    \"\"\"Custom exception for insufficient funds.\"\"\"\n",
    "    pass\n",
    "\n",
    "def withdraw_funds(balance, withdrawal_amount):\n",
    "    try:\n",
    "        # Ensure withdrawal_amount is numeric\n",
    "        withdrawal_amount = float(withdrawal_amount)\n",
    "        \n",
    "        # Check if withdrawal amount exceeds balance\n",
    "        if withdrawal_amount > balance:\n",
    "            raise InsufficientFundsError(f\"Withdrawal amount exceeds available balance.\")\n",
    "        \n",
    "        # Check if withdrawal amount is negative or zero\n",
    "        if withdrawal_amount <= 0:\n",
    "            raise ValueError(f\"Invalid withdrawal amount: {withdrawal_amount}. Must be greater than zero.\")\n",
    "\n",
    "        # Successful withdrawal\n",
    "        balance -= withdrawal_amount\n",
    "        print(f\"Withdrawal successful! New balance: ${balance:.2f}\")\n",
    "        return balance\n",
    "\n",
    "    except ValueError as ve:\n",
    "        print(f\"Error: {ve}\")\n",
    "    except InsufficientFundsError as ife:\n",
    "        print(f\"Error: {ife}\")\n",
    "\n"
   ]
  },
  {
   "cell_type": "code",
   "execution_count": 7,
   "id": "17da9b5e-181f-4a5c-94d1-52314f80136c",
   "metadata": {},
   "outputs": [
    {
     "name": "stdin",
     "output_type": "stream",
     "text": [
      "Enter current balance:  500\n",
      "Enter withdrawal amount:  600\n"
     ]
    },
    {
     "name": "stdout",
     "output_type": "stream",
     "text": [
      "Error: Withdrawal amount exceeds available balance.\n"
     ]
    }
   ],
   "source": [
    "# Main function to run the withdrawal simulation\n",
    "def main():\n",
    "    try:\n",
    "        balance = float(input(\"Enter current balance: \"))\n",
    "        withdrawal_amount = input(\"Enter withdrawal amount: \")\n",
    "        \n",
    "        # Attempt to withdraw funds\n",
    "        new_balance = withdraw_funds(balance, withdrawal_amount)\n",
    "\n",
    "    except ValueError:\n",
    "        print(\"Invalid input! Please enter a valid numeric balance.\")\n",
    "\n",
    "if __name__ == \"__main__\":\n",
    "    main()"
   ]
  },
  {
   "cell_type": "code",
   "execution_count": null,
   "id": "61b284b7-6b33-447d-989a-df71cf53d582",
   "metadata": {},
   "outputs": [],
   "source": []
  }
 ],
 "metadata": {
  "kernelspec": {
   "display_name": "Python 3",
   "language": "python",
   "name": "python3"
  },
  "language_info": {
   "codemirror_mode": {
    "name": "ipython",
    "version": 3
   },
   "file_extension": ".py",
   "mimetype": "text/x-python",
   "name": "python",
   "nbconvert_exporter": "python",
   "pygments_lexer": "ipython3",
   "version": "3.11.7"
  }
 },
 "nbformat": 4,
 "nbformat_minor": 5
}
