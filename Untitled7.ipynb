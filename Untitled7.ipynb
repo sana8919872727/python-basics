{
 "cells": [
  {
   "cell_type": "code",
   "execution_count": 9,
   "id": "d20e6b58-d9ae-4afd-9e5d-fb0d26695196",
   "metadata": {},
   "outputs": [
    {
     "name": "stdin",
     "output_type": "stream",
     "text": [
      "enter current year: 2024\n",
      "enter your birth year 2002\n",
      "enter your sibling birth year 2023\n"
     ]
    },
    {
     "name": "stdout",
     "output_type": "stream",
     "text": [
      "The age gap between you and your sibling is: 21 years.\n"
     ]
    }
   ],
   "source": [
    "class BirthdayBoy:\n",
    "    def __init__(self, currentyear, your_birthyear,sibling_birthyear):\n",
    "        self.currentyear = currentyear\n",
    "        self.your_birthyear = your_birthyear\n",
    "        self.sibling_birthyear =sibling_birthyear\n",
    "    def age_gap(self):\n",
    "        return abs(self.your_birthyear - self.sibling_birthyear)\n",
    "currentyear=int(input(\"enter current year:\"))\n",
    "your_birthyear=int(input(\"enter your birth year\"))\n",
    "sibling_birthyear=int(input(\"enter your sibling birth year\"))\n",
    "birthday_boy = BirthdayBoy(currentyear, your_birthyear,sibling_birthyear)\n",
    "\n",
    "print(\"The age gap between you and your sibling is:\", birthday_boy.age_gap(), \"years.\")\n",
    "   "
   ]
  },
  {
   "cell_type": "code",
   "execution_count": 12,
   "id": "c45e4a1c-640c-4509-acd5-7d90c6ead9f9",
   "metadata": {},
   "outputs": [
    {
     "name": "stdin",
     "output_type": "stream",
     "text": [
      "Enter the x1: 3\n",
      "Enter the y2: 4\n",
      "Enter the x2: 5\n",
      "Enter the y2: 6\n"
     ]
    },
    {
     "name": "stdout",
     "output_type": "stream",
     "text": [
      "The slope of the line is: 1.0\n"
     ]
    }
   ],
   "source": [
    "class Point:\n",
    "    def __init__(self, x1, y1, x2, y2):\n",
    "        self.x1 = x1\n",
    "        self.y1 = y1\n",
    "        self.x2 = x2\n",
    "        self.y2 = y2\n",
    "\n",
    "    def slope(self):\n",
    "        if self.x2 - self.x1 == 0:\n",
    "            return \"Slope is undefined\"\n",
    "        return (self.y2 - self.y1) / (self.x2 - self.x1)\n",
    "\n",
    "x1 = int(input(\"Enter the x1:\"))\n",
    "y1 = int(input(\"Enter the y2:\"))\n",
    "x2 = int(input(\"Enter the x2:\"))\n",
    "y2 = int(input(\"Enter the y2:\"))\n",
    "\n",
    "point = Point(x1, y1, x2, y2)\n",
    "\n",
    "print(\"The slope of the line is:\", round(point.slope(),2))\n"
   ]
  },
  {
   "cell_type": "code",
   "execution_count": 1,
   "id": "2d3912b5-985a-430f-8110-29fa3d04e790",
   "metadata": {},
   "outputs": [
    {
     "name": "stdout",
     "output_type": "stream",
     "text": [
      "1 Laptop(s) added to the cart.\n",
      "2 Phone(s) added to the cart.\n",
      "Shopping Cart:\n",
      "Laptop: 1 @ $999.99 each\n",
      "Phone: 2 @ $499.99 each\n",
      "Total price: $1999.97\n",
      "1 Phone(s) removed from the cart.\n",
      "Shopping Cart:\n",
      "Laptop: 1 @ $999.99 each\n",
      "Phone: 1 @ $499.99 each\n",
      "Total price: $1499.98\n"
     ]
    },
    {
     "data": {
      "text/plain": [
       "1499.98"
      ]
     },
     "execution_count": 1,
     "metadata": {},
     "output_type": "execute_result"
    }
   ],
   "source": [
    "class ShoppingCart:\n",
    "    def __init__(self):\n",
    "        # Initialize an empty shopping cart\n",
    "        self.cart = {}\n",
    "    \n",
    "    def add_item(self, item_name, quantity, price):\n",
    "        # Add an item to the cart or update its quantity\n",
    "        if item_name in self.cart:\n",
    "            self.cart[item_name]['quantity'] += quantity\n",
    "        else:\n",
    "            self.cart[item_name] = {'quantity': quantity, 'price': price}\n",
    "        print(f\"{quantity} {item_name}(s) added to the cart.\")\n",
    "    \n",
    "    def remove_item(self, item_name, quantity):\n",
    "        # Remove an item or reduce its quantity from the cart\n",
    "        if item_name in self.cart:\n",
    "            if self.cart[item_name]['quantity'] > quantity:\n",
    "                self.cart[item_name]['quantity'] -= quantity\n",
    "                print(f\"{quantity} {item_name}(s) removed from the cart.\")\n",
    "            elif self.cart[item_name]['quantity'] == quantity:\n",
    "                del self.cart[item_name]\n",
    "                print(f\"All {item_name}(s) removed from the cart.\")\n",
    "            else:\n",
    "                print(f\"Cannot remove more than what's in the cart.\")\n",
    "        else:\n",
    "            print(f\"{item_name} not found in the cart.\")\n",
    "    \n",
    "    def view_cart(self):\n",
    "        # Display the contents of the cart\n",
    "        if self.cart:\n",
    "            print(\"Shopping Cart:\")\n",
    "            for item, details in self.cart.items():\n",
    "                print(f\"{item}: {details['quantity']} @ ${details['price']} each\")\n",
    "        else:\n",
    "            print(\"Your cart is empty.\")\n",
    "    \n",
    "    def calculate_total(self):\n",
    "        # Calculate the total price of the cart\n",
    "        total = sum(details['quantity'] * details['price'] for details in self.cart.values())\n",
    "        print(f\"Total price: ${total:.2f}\")\n",
    "        return total\n",
    "\n",
    "# Example usage\n",
    "cart = ShoppingCart()\n",
    "cart.add_item(\"Laptop\", 1, 999.99)\n",
    "cart.add_item(\"Phone\", 2, 499.99)\n",
    "cart.view_cart()\n",
    "cart.calculate_total()\n",
    "\n",
    "cart.remove_item(\"Phone\", 1)\n",
    "cart.view_cart()\n",
    "cart.calculate_total()\n"
   ]
  },
  {
   "cell_type": "code",
   "execution_count": 2,
   "id": "e7df184a-2586-44d9-8c89-52a930e597a3",
   "metadata": {},
   "outputs": [
    {
     "name": "stdout",
     "output_type": "stream",
     "text": [
      "Added Orange to the cart at price 100.\n",
      "Added Lemon to the cart at price 10.\n",
      "Added Apple to the cart at price 50.\n",
      "Added Watermelon to the cart at price 30.\n",
      "Current items in your cart:\n",
      "Orange - 100\n",
      "Lemon - 10\n",
      "Apple - 50\n",
      "Watermelon - 30\n",
      "Total value of your cart is: 190\n",
      "Orange removed from the cart.\n",
      "Current items in your cart:\n",
      "Lemon - 10\n",
      "Apple - 50\n",
      "Watermelon - 30\n",
      "Total value of your cart is: 90\n",
      "Banana is not in the cart.\n"
     ]
    }
   ],
   "source": [
    "class ShoppingCart:\n",
    "    def __init__(self):\n",
    "        # Initialize an empty cart\n",
    "        self.cart = {}\n",
    "\n",
    "    def add_item(self, item, price):\n",
    "        # Add the item to the cart with its price, or update the price if it already exists\n",
    "        if item in self.cart:\n",
    "            print(f\"{item} is already in the cart. Updating the price to {price}.\")\n",
    "        self.cart[item] = price\n",
    "        print(f\"Added {item} to the cart at price {price}.\")\n",
    "\n",
    "    def remove_item(self, item):\n",
    "        # Remove the item from the cart if it exists, otherwise print a message\n",
    "        if item in self.cart:\n",
    "            del self.cart[item]\n",
    "            print(f\"{item} removed from the cart.\")\n",
    "        else:\n",
    "            print(f\"{item} is not in the cart.\")\n",
    "\n",
    "    def calculate_total(self):\n",
    "        # Calculate and return the total price of items in the cart\n",
    "        if not self.cart:\n",
    "            print(\"The cart is empty.\")\n",
    "            return 0\n",
    "        total = sum(self.cart.values())\n",
    "        print(f\"Total value of your cart is: {total}\")\n",
    "        return total\n",
    "\n",
    "    def view_cart(self):\n",
    "        # Display the items in the cart with their prices\n",
    "        if not self.cart:\n",
    "            print(\"Your cart is empty.\")\n",
    "        else:\n",
    "            print(\"Current items in your cart:\")\n",
    "            for item, price in self.cart.items():\n",
    "                print(f\"{item} - {price}\")\n",
    "\n",
    "\n",
    "# Testing the ShoppingCart class\n",
    "cart = ShoppingCart()\n",
    "\n",
    "# Adding items to the cart\n",
    "cart.add_item(\"Orange\", 100)\n",
    "cart.add_item(\"Lemon\", 10)\n",
    "cart.add_item(\"Apple\", 50)\n",
    "cart.add_item(\"Watermelon\", 30)\n",
    "\n",
    "# Viewing the cart\n",
    "cart.view_cart()\n",
    "\n",
    "# Calculating the total price\n",
    "cart.calculate_total()\n",
    "\n",
    "# Removing an item and viewing the cart again\n",
    "cart.remove_item(\"Orange\")\n",
    "cart.view_cart()\n",
    "\n",
    "# Calculating the updated total\n",
    "cart.calculate_total()\n",
    "\n",
    "# Trying to remove an item not in the cart\n",
    "cart.remove_item(\"Banana\")\n"
   ]
  },
  {
   "cell_type": "code",
   "execution_count": null,
   "id": "806cf84c-780a-4910-b23c-9145b9922536",
   "metadata": {},
   "outputs": [],
   "source": [
    "while True:\n",
    "    try:\n",
    "        # Ask for user input\n",
    "        user_input = input(\"Please enter a whole number: \")\n",
    "        \n",
    "        # Try converting the input to an integer\n",
    "        num = int(user_input)\n",
    "        print(f\"Thank you! You entered the whole number: {num}\")\n",
    "        break\n",
    "    \n",
    "    except ValueError:\n",
    "        # Handle invalid input\n",
    "        print(\"You must enter a whole number!\")\n",
    "        try_again = input(\"Do you want to try again? (y/n): \").lower()\n",
    "        \n",
    "        if try_again != 'y':\n",
    "            print(\"Ok, see you next time!\")\n",
    "            break\n",
    "    \n",
    "    except KeyboardInterrupt:\n",
    "        # Handle keyboard interruption\n",
    "        print(\"\\nYou pressed Ctrl+C! See you next time!\")\n",
    "        break\n"
   ]
  },
  {
   "cell_type": "code",
   "execution_count": 1,
   "id": "fcf66052-851e-4f19-a458-3bf7767740c2",
   "metadata": {},
   "outputs": [
    {
     "name": "stdin",
     "output_type": "stream",
     "text": [
      "Enter the value of a:  4\n",
      "Enter the value of b:  5\n"
     ]
    },
    {
     "name": "stdout",
     "output_type": "stream",
     "text": [
      "Division operation successful with result: 0.8\n"
     ]
    }
   ],
   "source": [
    "# Define the user-defined exception class\n",
    "class OurException(Exception):\n",
    "    def __init__(self, message):\n",
    "        self.message = message\n",
    "\n",
    "# Class that handles the division operation and raises the exception\n",
    "class UsingUserException:\n",
    "    def divide(self):\n",
    "        try:\n",
    "            # Take input from the user\n",
    "            a = float(input(\"Enter the value of a: \"))\n",
    "            b = float(input(\"Enter the value of b: \"))\n",
    "            \n",
    "            # Condition to raise the exception if b == 0\n",
    "            if b == 0:\n",
    "                raise OurException(f\"b should be greater than 0. You entered: {b}\")\n",
    "            \n",
    "            # Perform division\n",
    "            d = a / b\n",
    "            print(f\"Division operation successful with result: {d}\")\n",
    "        \n",
    "        except OurException as err:\n",
    "            print(\"Raised an User-defined Exception:\", err.message)\n",
    "\n",
    "# Create an instance of the class and perform the operation\n",
    "obj = UsingUserException()\n",
    "obj.divide()\n"
   ]
  },
  {
   "cell_type": "code",
   "execution_count": null,
   "id": "6bfcf32a-01be-4c7a-9636-eea646876c17",
   "metadata": {},
   "outputs": [],
   "source": []
  }
 ],
 "metadata": {
  "kernelspec": {
   "display_name": "Python 3",
   "language": "python",
   "name": "python3"
  },
  "language_info": {
   "codemirror_mode": {
    "name": "ipython",
    "version": 3
   },
   "file_extension": ".py",
   "mimetype": "text/x-python",
   "name": "python",
   "nbconvert_exporter": "python",
   "pygments_lexer": "ipython3",
   "version": "3.11.7"
  }
 },
 "nbformat": 4,
 "nbformat_minor": 5
}
