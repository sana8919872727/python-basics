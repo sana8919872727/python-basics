{
 "cells": [
  {
   "cell_type": "code",
   "execution_count": 7,
   "id": "3c799966-f47a-479b-9f00-44f6a5a90354",
   "metadata": {},
   "outputs": [
    {
     "name": "stdout",
     "output_type": "stream",
     "text": [
      "enterprise\n",
      "the jumbled word is:['n', 'r', 's', 'i', 'r', 'e', 'e', 't', 'p', 'e']\n"
     ]
    },
    {
     "name": "stdin",
     "output_type": "stream",
     "text": [
      "enter the correct word enterprise\n"
     ]
    },
    {
     "name": "stdout",
     "output_type": "stream",
     "text": [
      "correct guess\n"
     ]
    }
   ],
   "source": [
    "This Python code is a simple word jumble game. Here's how it works, step by step:\n",
    "\n",
    "1. **Import the Random Module**: The code begins by importing the `random` module to use its features to select random items.\n",
    "\n",
    "2. **Create a List of Words**: A list named `list` (which should be renamed to avoid shadowing the built-in `list` type) is defined, containing several words.\n",
    "\n",
    "3. **Select a Random Word**: The code randomly selects one word from the list using `random.choice()`, and this selected word is stored in the variable `word`.\n",
    "\n",
    "4. **Jumble the Selected Word**: The selected word is then jumbled (scrambled) using `random.sample()`, which creates a new list of the letters in the word in random order. This jumbled list is stored in the variable `jumbled`.\n",
    "\n",
    "5. **Print the Jumbled Word**: The jumbled version of the word is printed to the console.\n",
    "\n",
    "6. **User Input**: The program prompts the user to enter their guess of what the original word is.\n",
    "\n",
    "7. **Check the Guess**: It compares the user's input (`answer`) to the original word (`word`). If they match, it prints \"correct guess\"; otherwise, it prints \"incorrect guess\".\n",
    "\n",
    "### Example Output\n",
    "If the code randomly selects the word \"python\", the jumbled output might be something like `['h', 'n', 't', 'o', 'p', 'y']`. The user then has to guess \"python\" based on this jumble.\n",
    "\n",
    "### Note\n",
    "The variable `list` should be renamed (e.g., to `words`) to prevent confusion with the built-in `list` type in Python.\n",
    "    \n"
   ]
  },
  {
   "cell_type": "code",
   "execution_count": 5,
   "id": "3b156dc3-b6ca-4e32-8c0d-981a65a59d82",
   "metadata": {},
   "outputs": [
    {
     "data": {
      "text/plain": [
       "120"
      ]
     },
     "execution_count": 5,
     "metadata": {},
     "output_type": "execute_result"
    }
   ],
   "source": [
    "def fibonacci(n):\n",
    "    if n<=1:\n",
    "        return n\n",
    "    else:\n",
    "       return n+fibonacci(n-1)\n",
    "       count=+1\n",
    "fibonacci(15)"
   ]
  },
  {
   "cell_type": "code",
   "execution_count": null,
   "id": "b8dd506b-a7bd-4c50-b48d-9069fc3b278b",
   "metadata": {},
   "outputs": [],
   "source": [
    "print(\"winning_rules:/n paper vs rock=paper win/nrock vs scissors=rock win/n paper vs scissors=scissors win\")\n"
   ]
  },
  {
   "cell_type": "code",
   "execution_count": 7,
   "id": "e815391d-2443-4b52-b3d6-b343a14863ac",
   "metadata": {},
   "outputs": [
    {
     "name": "stdout",
     "output_type": "stream",
     "text": [
      "winning_rules:/n paper vs rock=paper win/nrock vs scissors=rock win/n paper vs scissors=scissors win\n",
      "Enter your choice \n",
      " 1 - Rock \n",
      " 2 - Paper \n",
      " 3 - Scissors \n",
      "\n"
     ]
    },
    {
     "name": "stdin",
     "output_type": "stream",
     "text": [
      "Enter your choice : 3\n"
     ]
    },
    {
     "name": "stdout",
     "output_type": "stream",
     "text": [
      "User choice is \n",
      " Scissors\n",
      "Now its Computers Turn....\n",
      "Computer choice is \n",
      " Paper\n",
      "Scissors Vs Paper\n",
      "Scissors wins =><== Computer wins ==>\n",
      "Do you want to play again? (Y/N)\n"
     ]
    },
    {
     "name": "stdin",
     "output_type": "stream",
     "text": [
      " y\n"
     ]
    },
    {
     "name": "stdout",
     "output_type": "stream",
     "text": [
      "Enter your choice \n",
      " 1 - Rock \n",
      " 2 - Paper \n",
      " 3 - Scissors \n",
      "\n"
     ]
    },
    {
     "name": "stdin",
     "output_type": "stream",
     "text": [
      "Enter your choice : 2\n"
     ]
    },
    {
     "name": "stdout",
     "output_type": "stream",
     "text": [
      "User choice is \n",
      " Paper\n",
      "Now its Computers Turn....\n",
      "Computer choice is \n",
      " RocK\n",
      "Paper Vs RocK\n",
      "paper wins =><== User wins ==>\n",
      "Do you want to play again? (Y/N)\n"
     ]
    },
    {
     "name": "stdin",
     "output_type": "stream",
     "text": [
      " n\n"
     ]
    },
    {
     "name": "stdout",
     "output_type": "stream",
     "text": [
      "thanks for playing\n"
     ]
    }
   ],
   "source": [
    "import random\n",
    "print(\"winning_rules:/n paper vs rock=paper win/nrock vs scissors=rock win/n paper vs scissors=scissors win\")\n",
    "\n",
    "while True:\n",
    "\n",
    "    print(\"Enter your choice \\n 1 - Rock \\n 2 - Paper \\n 3 - Scissors \\n\")\n",
    "\n",
    "    # take the input from user\n",
    "\n",
    "    choice = int(input(\"Enter your choice :\"))\n",
    "\n",
    "    # OR is the short-circuit operator\n",
    "    # if any one of the condition is true\n",
    "    # then it return True value\n",
    "\n",
    "    # looping until user enter invalid input\n",
    "    while choice > 3 or choice < 1:\n",
    "        choice = int(input('Enter a valid choice please '))\n",
    "\n",
    "        # initialize value of choice_name variable\n",
    "    # corresponding to the choice value\n",
    "    if choice == 1:\n",
    "        choice_name = 'Rock'\n",
    "    elif choice == 2:\n",
    "        choice_name = 'Paper'\n",
    "    else:\n",
    "        choice_name = 'Scissors'\n",
    "\n",
    "        # print user choice\n",
    "    print('User choice is \\n', choice_name)\n",
    "    print('Now its Computers Turn....')\n",
    "\n",
    "    # Computer chooses randomly any number\n",
    "    # among 1 , 2 and 3. Using randint method\n",
    "    # of random module\n",
    "    comp_choice = random.randint(1, 3)\n",
    "\n",
    "    # looping until comp_choice value\n",
    "    # is equal to the choice value\n",
    "    while comp_choice == choice:\n",
    "        comp_choice = random.randint(1, 3)\n",
    "\n",
    "     # initialize value of comp_choice_name\n",
    "    # variable corresponding to the choice value\n",
    "    if comp_choice == 1:\n",
    "        comp_choice_name = 'RocK'\n",
    "    elif comp_choice == 2:\n",
    "        comp_choice_name = 'Paper'\n",
    "    else:\n",
    "        comp_choice_name = 'Scissors'\n",
    "    print(\"Computer choice is \\n\", comp_choice_name)\n",
    "    print(choice_name, 'Vs', comp_choice_name)\n",
    "    # we need to check of a draw\n",
    "    if choice == comp_choice:\n",
    "        print('Its a Draw', end=\"\")\n",
    "        result = \"DRAW\"\n",
    "    # condition for winning\n",
    "    if (choice == 1 and comp_choice == 2):\n",
    "        print('paper wins =>', end=\"\")\n",
    "        result = 'Paper'\n",
    "    elif (choice == 2 and comp_choice == 1):\n",
    "        print('paper wins =>', end=\"\")\n",
    "        result = 'Paper'\n",
    "\n",
    "    if (choice == 1 and comp_choice == 3):\n",
    "        print('Rock wins =>\\n', end=\"\")\n",
    "        result = 'Rock'\n",
    "    elif (choice == 3 and comp_choice == 1):\n",
    "        print('Rock wins =>\\n', end=\"\")\n",
    "        result = 'RocK'\n",
    "\n",
    "    if (choice == 2 and comp_choice == 3):\n",
    "        print('Scissors wins =>', end=\"\")\n",
    "        result = 'Scissors'\n",
    "    elif (choice == 3 and comp_choice == 2):\n",
    "        print('Scissors wins =>', end=\"\")\n",
    "        result = 'Rock'\n",
    "     # Printing either user or computer wins or draw\n",
    "    if result == 'DRAW':\n",
    "        print(\"<== Its a tie ==>\")\n",
    "    if result == choice_name:\n",
    "        print(\"<== User wins ==>\")\n",
    "    else:\n",
    "        print(\"<== Computer wins ==>\")\n",
    "    print(\"Do you want to play again? (Y/N)\")\n",
    "    # if user input n or N then condition is True\n",
    "    ans = input().lower()\n",
    "    if ans == 'n':\n",
    "        break\n",
    "\n",
    "print(\"thanks for playing\")\n"
   ]
  },
  {
   "cell_type": "code",
   "execution_count": 2,
   "id": "05845565-9a61-4fb5-b67f-6195b8d30676",
   "metadata": {},
   "outputs": [
    {
     "name": "stdin",
     "output_type": "stream",
     "text": [
      "enter rock or scissor or paper of your choice paper\n",
      "enter rock or scissor or paper of your choice scissor\n"
     ]
    },
    {
     "name": "stdout",
     "output_type": "stream",
     "text": [
      "user2 won\n"
     ]
    }
   ],
   "source": [
    "user1=input(\"enter rock or scissor or paper of your choice\")\n",
    "user2=input(\"enter rock or scissor or paper of your choice\")\n",
    "if user1=='paper'and user2=='rock':\n",
    "    print(\"user1 won\")\n",
    "elif user1==\"paper\" and user2==\"scissor\":\n",
    "    print(\"user2 won\")\n",
    "elif user1==\"scissor\"and user2==\"rock\":\n",
    "    print(\"paper won /n user1 won\")\n",
    "elif user2=='paper'and user1=='rock':\n",
    "    print(\"paper won\")\n",
    "elif user2==\"paper\"and user1==\"scissor\":\n",
    "    print(\"scissor won\")\n",
    "elif user2==\"scissor\"and user1==\"rock\":\n",
    "    print(\"paper won /n user1 won\")\n",
    "elif user1==user2:\n",
    "    print(\"tie\")\n",
    "else:\n",
    "    print(\"error\")\n",
    "    \n"
   ]
  },
  {
   "cell_type": "code",
   "execution_count": 23,
   "id": "2eafd33d-4ea3-40a8-9007-802cb1e41db8",
   "metadata": {},
   "outputs": [],
   "source": [
    "fruit=\"banana is tasty\"\n",
    "#for i in fruit:\n",
    "    #print(len(i) i )"
   ]
  },
  {
   "cell_type": "code",
   "execution_count": 24,
   "id": "d0e690f1-2041-4def-bad4-7a3473129616",
   "metadata": {
    "scrolled": true
   },
   "outputs": [
    {
     "data": {
      "text/plain": [
       "['__add__',\n",
       " '__class__',\n",
       " '__contains__',\n",
       " '__delattr__',\n",
       " '__dir__',\n",
       " '__doc__',\n",
       " '__eq__',\n",
       " '__format__',\n",
       " '__ge__',\n",
       " '__getattribute__',\n",
       " '__getitem__',\n",
       " '__getnewargs__',\n",
       " '__getstate__',\n",
       " '__gt__',\n",
       " '__hash__',\n",
       " '__init__',\n",
       " '__init_subclass__',\n",
       " '__iter__',\n",
       " '__le__',\n",
       " '__len__',\n",
       " '__lt__',\n",
       " '__mod__',\n",
       " '__mul__',\n",
       " '__ne__',\n",
       " '__new__',\n",
       " '__reduce__',\n",
       " '__reduce_ex__',\n",
       " '__repr__',\n",
       " '__rmod__',\n",
       " '__rmul__',\n",
       " '__setattr__',\n",
       " '__sizeof__',\n",
       " '__str__',\n",
       " '__subclasshook__',\n",
       " 'capitalize',\n",
       " 'casefold',\n",
       " 'center',\n",
       " 'count',\n",
       " 'encode',\n",
       " 'endswith',\n",
       " 'expandtabs',\n",
       " 'find',\n",
       " 'format',\n",
       " 'format_map',\n",
       " 'index',\n",
       " 'isalnum',\n",
       " 'isalpha',\n",
       " 'isascii',\n",
       " 'isdecimal',\n",
       " 'isdigit',\n",
       " 'isidentifier',\n",
       " 'islower',\n",
       " 'isnumeric',\n",
       " 'isprintable',\n",
       " 'isspace',\n",
       " 'istitle',\n",
       " 'isupper',\n",
       " 'join',\n",
       " 'ljust',\n",
       " 'lower',\n",
       " 'lstrip',\n",
       " 'maketrans',\n",
       " 'partition',\n",
       " 'removeprefix',\n",
       " 'removesuffix',\n",
       " 'replace',\n",
       " 'rfind',\n",
       " 'rindex',\n",
       " 'rjust',\n",
       " 'rpartition',\n",
       " 'rsplit',\n",
       " 'rstrip',\n",
       " 'split',\n",
       " 'splitlines',\n",
       " 'startswith',\n",
       " 'strip',\n",
       " 'swapcase',\n",
       " 'title',\n",
       " 'translate',\n",
       " 'upper',\n",
       " 'zfill']"
      ]
     },
     "execution_count": 24,
     "metadata": {},
     "output_type": "execute_result"
    }
   ],
   "source": [
    "dir(fruit)"
   ]
  },
  {
   "cell_type": "code",
   "execution_count": 44,
   "id": "b7ab4c5b-64e2-4f45-9cbe-0f4b30e83f1d",
   "metadata": {},
   "outputs": [
    {
     "ename": "TypeError",
     "evalue": "unsupported operand type(s) for -: 'str' and 'int'",
     "output_type": "error",
     "traceback": [
      "\u001b[1;31m---------------------------------------------------------------------------\u001b[0m",
      "\u001b[1;31mTypeError\u001b[0m                                 Traceback (most recent call last)",
      "Cell \u001b[1;32mIn[44], line 3\u001b[0m\n\u001b[0;32m      1\u001b[0m a\u001b[38;5;241m=\u001b[39m\u001b[38;5;124m\"\u001b[39m\u001b[38;5;124mmarquard@uct.ac.za\u001b[39m\u001b[38;5;124m\"\u001b[39m\n\u001b[0;32m      2\u001b[0m atpos\u001b[38;5;241m=\u001b[39m(a\u001b[38;5;241m.\u001b[39mfind(\u001b[38;5;124m\"\u001b[39m\u001b[38;5;124m@\u001b[39m\u001b[38;5;124m\"\u001b[39m))\n\u001b[1;32m----> 3\u001b[0m \u001b[38;5;28mstr\u001b[39m\u001b[38;5;241m=\u001b[39ma\u001b[38;5;241m-\u001b[39matpos\n\u001b[0;32m      4\u001b[0m \u001b[38;5;28mprint\u001b[39m(\u001b[38;5;28mstr\u001b[39m)\n",
      "\u001b[1;31mTypeError\u001b[0m: unsupported operand type(s) for -: 'str' and 'int'"
     ]
    }
   ],
   "source": [
    "a=\"marquard@uct.ac.za\"\n",
    "print(index(@))\n",
    "atpos=\n",
    "str=a-atpos\n",
    "print(str)\n",
    "\n",
    "\n"
   ]
  },
  {
   "cell_type": "code",
   "execution_count": 7,
   "id": "7bc5a08c-671e-4b45-8a8f-4b4d4f05cca4",
   "metadata": {},
   "outputs": [
    {
     "name": "stdout",
     "output_type": "stream",
     "text": [
      "Move disk 1 from rod A to rod B\n",
      "Move disk 2 from rod A to rod C\n",
      "Move disk 1 from rod B to rod C\n",
      "Move disk 3 from rod A to rod B\n",
      "Move disk 1 from rod C to rod A\n",
      "Move disk 2 from rod C to rod B\n",
      "Move disk 1 from rod A to rod B\n",
      "Move disk 4 from rod A to rod C\n",
      "Move disk 1 from rod B to rod C\n",
      "Move disk 2 from rod B to rod A\n",
      "Move disk 1 from rod C to rod A\n",
      "Move disk 3 from rod B to rod C\n",
      "Move disk 1 from rod A to rod B\n",
      "Move disk 2 from rod A to rod C\n",
      "Move disk 1 from rod B to rod C\n"
     ]
    }
   ],
   "source": [
    "def TowerOfHanoi(n, from_rod, to_rod, aux_rod):\n",
    "    if n == 0:\n",
    "        return\n",
    "    TowerOfHanoi(n-1, from_rod, aux_rod, to_rod)\n",
    "    print(\"Move disk\", n, \"from rod\", from_rod, \"to rod\", to_rod)\n",
    "    TowerOfHanoi(n-1, aux_rod, to_rod, from_rod)\n",
    "# Driver code\n",
    "N = 4\n",
    "# A, C, B are the name of rods\n",
    "TowerOfHanoi(N, 'A', 'C', 'B')"
   ]
  },
  {
   "cell_type": "code",
   "execution_count": 6,
   "id": "19d8a856-4217-49e5-8af2-17d152fd529f",
   "metadata": {},
   "outputs": [
    {
     "name": "stdout",
     "output_type": "stream",
     "text": [
      "(10, 20, 30, 'sana', 'sadaf')\n"
     ]
    }
   ],
   "source": [
    "a=(10,20,30,'sana','sadaf')\n",
    "print(a)\n"
   ]
  },
  {
   "cell_type": "code",
   "execution_count": 7,
   "id": "9eed9593-eda5-4f79-badb-ef8fcc695328",
   "metadata": {},
   "outputs": [
    {
     "data": {
      "text/plain": [
       "tuple"
      ]
     },
     "execution_count": 7,
     "metadata": {},
     "output_type": "execute_result"
    }
   ],
   "source": [
    "type(a)"
   ]
  },
  {
   "cell_type": "code",
   "execution_count": 8,
   "id": "ce9db210-e248-4fe5-a93a-2aa6e902a2bd",
   "metadata": {},
   "outputs": [
    {
     "data": {
      "text/plain": [
       "str"
      ]
     },
     "execution_count": 8,
     "metadata": {},
     "output_type": "execute_result"
    }
   ],
   "source": [
    "b=(\"a\")\n",
    "type(b)"
   ]
  },
  {
   "cell_type": "code",
   "execution_count": 9,
   "id": "f967c4ad-30a4-48c1-a269-e216662a14a6",
   "metadata": {},
   "outputs": [
    {
     "data": {
      "text/plain": [
       "tuple"
      ]
     },
     "execution_count": 9,
     "metadata": {},
     "output_type": "execute_result"
    }
   ],
   "source": [
    "b=(\"a\",)\n",
    "type(b)"
   ]
  },
  {
   "cell_type": "code",
   "execution_count": 10,
   "id": "a8422d3c-f073-4d36-a637-15be72b72175",
   "metadata": {},
   "outputs": [
    {
     "name": "stdout",
     "output_type": "stream",
     "text": [
      "30\n"
     ]
    }
   ],
   "source": [
    "print(a[2])\n"
   ]
  },
  {
   "cell_type": "code",
   "execution_count": 11,
   "id": "8f02c48a-25ea-478c-a19d-2536043a1f47",
   "metadata": {},
   "outputs": [
    {
     "name": "stdout",
     "output_type": "stream",
     "text": [
      "sadaf\n"
     ]
    }
   ],
   "source": [
    "print(a[-1])"
   ]
  },
  {
   "cell_type": "code",
   "execution_count": 13,
   "id": "d5f51512-892d-44cf-a643-f272b97d95c3",
   "metadata": {},
   "outputs": [
    {
     "name": "stdout",
     "output_type": "stream",
     "text": [
      "(10, 20, 30, 'sana', 'sadaf')\n"
     ]
    }
   ],
   "source": [
    "print(a[::])"
   ]
  },
  {
   "cell_type": "code",
   "execution_count": 17,
   "id": "24a5e39f-8713-48f6-aa08-1f100a48a9d5",
   "metadata": {},
   "outputs": [
    {
     "name": "stdout",
     "output_type": "stream",
     "text": [
      "(10, 20, 30, 'sana')\n"
     ]
    }
   ],
   "source": [
    "print(a[:4])"
   ]
  },
  {
   "cell_type": "code",
   "execution_count": 16,
   "id": "617238ad-53b4-4067-8f93-49aad668ec21",
   "metadata": {},
   "outputs": [
    {
     "name": "stdout",
     "output_type": "stream",
     "text": [
      "(10, 20, 30, 'sana')\n"
     ]
    }
   ],
   "source": [
    "print(a[:-1])"
   ]
  },
  {
   "cell_type": "code",
   "execution_count": 18,
   "id": "0aacbb15-c35a-4d30-b708-7cfcfc233927",
   "metadata": {},
   "outputs": [
    {
     "data": {
      "text/plain": [
       "(10, 20, 30, 'sana', 'sadaf', 1, 2, 3, 4)"
      ]
     },
     "execution_count": 18,
     "metadata": {},
     "output_type": "execute_result"
    }
   ],
   "source": [
    "c=(1,2,3,4)\n",
    "a+c"
   ]
  },
  {
   "cell_type": "code",
   "execution_count": 19,
   "id": "7163d16c-e38c-4772-989e-d51a6d5041b1",
   "metadata": {},
   "outputs": [
    {
     "data": {
      "text/plain": [
       "(1,\n",
       " 2,\n",
       " 3,\n",
       " 4,\n",
       " 1,\n",
       " 2,\n",
       " 3,\n",
       " 4,\n",
       " 1,\n",
       " 2,\n",
       " 3,\n",
       " 4,\n",
       " 1,\n",
       " 2,\n",
       " 3,\n",
       " 4,\n",
       " 1,\n",
       " 2,\n",
       " 3,\n",
       " 4,\n",
       " 1,\n",
       " 2,\n",
       " 3,\n",
       " 4,\n",
       " 1,\n",
       " 2,\n",
       " 3,\n",
       " 4)"
      ]
     },
     "execution_count": 19,
     "metadata": {},
     "output_type": "execute_result"
    }
   ],
   "source": [
    "c*7"
   ]
  },
  {
   "cell_type": "code",
   "execution_count": 20,
   "id": "efd06e4e-f794-43c8-a0b5-351cb3310fdc",
   "metadata": {},
   "outputs": [
    {
     "data": {
      "text/plain": [
       "True"
      ]
     },
     "execution_count": 20,
     "metadata": {},
     "output_type": "execute_result"
    }
   ],
   "source": [
    "'sadaf' in a"
   ]
  },
  {
   "cell_type": "code",
   "execution_count": 21,
   "id": "2a9317c4-ce5f-4b9b-8ec6-258d9fbd1d51",
   "metadata": {},
   "outputs": [
    {
     "data": {
      "text/plain": [
       "True"
      ]
     },
     "execution_count": 21,
     "metadata": {},
     "output_type": "execute_result"
    }
   ],
   "source": [
    "1 in c"
   ]
  },
  {
   "cell_type": "code",
   "execution_count": 22,
   "id": "2f1ef9b6-adf9-480b-adcc-ac0216c5dcf2",
   "metadata": {},
   "outputs": [
    {
     "data": {
      "text/plain": [
       "False"
      ]
     },
     "execution_count": 22,
     "metadata": {},
     "output_type": "execute_result"
    }
   ],
   "source": [
    "a==c"
   ]
  },
  {
   "cell_type": "code",
   "execution_count": 23,
   "id": "6de58ced-95b0-4b20-9b91-70bbc24ee233",
   "metadata": {},
   "outputs": [
    {
     "data": {
      "text/plain": [
       "True"
      ]
     },
     "execution_count": 23,
     "metadata": {},
     "output_type": "execute_result"
    }
   ],
   "source": [
    "a!=c"
   ]
  },
  {
   "cell_type": "code",
   "execution_count": 24,
   "id": "ee52ace0-d634-4d99-8b3b-0f76e340a316",
   "metadata": {},
   "outputs": [],
   "source": [
    "l1=['sana','sadaf','asma','shaj']\n",
    "a,b,c,d=l1"
   ]
  },
  {
   "cell_type": "code",
   "execution_count": 25,
   "id": "84e810e5-37ec-47cf-9781-16cc148d6504",
   "metadata": {},
   "outputs": [
    {
     "data": {
      "text/plain": [
       "'sana'"
      ]
     },
     "execution_count": 25,
     "metadata": {},
     "output_type": "execute_result"
    }
   ],
   "source": [
    "a"
   ]
  },
  {
   "cell_type": "code",
   "execution_count": 26,
   "id": "bed19d17-b018-4daf-9aa3-c5d00fcc8429",
   "metadata": {},
   "outputs": [
    {
     "data": {
      "text/plain": [
       "'sadaf'"
      ]
     },
     "execution_count": 26,
     "metadata": {},
     "output_type": "execute_result"
    }
   ],
   "source": [
    "b"
   ]
  },
  {
   "cell_type": "code",
   "execution_count": 27,
   "id": "ec128aa0-af56-47f2-9bbd-0d8c8dbb58aa",
   "metadata": {},
   "outputs": [
    {
     "data": {
      "text/plain": [
       "'asma'"
      ]
     },
     "execution_count": 27,
     "metadata": {},
     "output_type": "execute_result"
    }
   ],
   "source": [
    "c"
   ]
  },
  {
   "cell_type": "code",
   "execution_count": 28,
   "id": "e986e3f5-d430-49d5-b3a1-e46df59fc81f",
   "metadata": {},
   "outputs": [
    {
     "data": {
      "text/plain": [
       "'shaj'"
      ]
     },
     "execution_count": 28,
     "metadata": {},
     "output_type": "execute_result"
    }
   ],
   "source": [
    "d"
   ]
  },
  {
   "cell_type": "code",
   "execution_count": 29,
   "id": "fc942f16-ac2b-45af-b8ec-94316c023054",
   "metadata": {},
   "outputs": [
    {
     "name": "stdout",
     "output_type": "stream",
     "text": [
      "30\n",
      "20\n"
     ]
    }
   ],
   "source": [
    "a=20\n",
    "b=30\n",
    "(a,b)=(b,a)\n",
    "print(a)\n",
    "print(b)"
   ]
  },
  {
   "cell_type": "code",
   "execution_count": 32,
   "id": "010dea38-55d1-4bec-ad75-3221264029e9",
   "metadata": {},
   "outputs": [
    {
     "name": "stdin",
     "output_type": "stream",
     "text": [
      "input elements: 'sana' 1 2 3\n"
     ]
    }
   ],
   "source": [
    "tup=tuple(input('input elements:').split(' '))"
   ]
  },
  {
   "cell_type": "code",
   "execution_count": 33,
   "id": "d0d7cce6-9eb3-4f2d-996b-45e61c4e55bd",
   "metadata": {},
   "outputs": [
    {
     "data": {
      "text/plain": [
       "(\"'sana'\", '1', '2', '3')"
      ]
     },
     "execution_count": 33,
     "metadata": {},
     "output_type": "execute_result"
    }
   ],
   "source": [
    "tup"
   ]
  },
  {
   "cell_type": "code",
   "execution_count": null,
   "id": "02d94af1-1f5f-4a0a-992a-f4d08f24c3ce",
   "metadata": {},
   "outputs": [],
   "source": [
    "list1=list(input(\"enter elements in list:\").split(\" \")"
   ]
  },
  {
   "cell_type": "code",
   "execution_count": 1,
   "id": "311ed2df-cf42-476a-a96c-09df306f0949",
   "metadata": {},
   "outputs": [
    {
     "name": "stdout",
     "output_type": "stream",
     "text": [
      "The age gap between you and your sibling is: 5 years.\n"
     ]
    }
   ],
   "source": [
    "class BirthdayBoy:\n",
    "    def __init__(self, current_year, your_birth_year, your_sibling_birth_year):\n",
    "        self.current_year = current_year\n",
    "        self.your_birth_year = your_birth_year\n",
    "        self.your_sibling_birth_year = your_sibling_birth_year\n",
    "\n",
    "    def age_gap(self):\n",
    "        # Calculate the age difference between you and your sibling\n",
    "        return abs(self.your_birth_year - self.your_sibling_birth_year)\n",
    "\n",
    "# Create an instance of the BirthdayBoy class\n",
    "birthday_boy = BirthdayBoy(current_year=2024, your_birth_year=1990, your_sibling_birth_year=1995)\n",
    "\n",
    "# Call the age_gap method and print the result\n",
    "print(\"The age gap between you and your sibling is:\", birthday_boy.age_gap(), \"years.\")\n"
   ]
  },
  {
   "cell_type": "code",
   "execution_count": 2,
   "id": "d78a983f-d130-46cf-a2ff-93befcaca9f4",
   "metadata": {},
   "outputs": [
    {
     "name": "stdin",
     "output_type": "stream",
     "text": [
      "Enter the x-coordinate of the first point:  2\n",
      "Enter the y-coordinate of the first point:  3\n",
      "Enter the x-coordinate of the second point:  4\n",
      "Enter the y-coordinate of the second point:  5\n"
     ]
    },
    {
     "name": "stdout",
     "output_type": "stream",
     "text": [
      "The slope of the line is: 1.0\n"
     ]
    }
   ],
   "source": [
    "class Point:\n",
    "    def __init__(self, x1, y1, x2, y2):\n",
    "        self.x1 = x1\n",
    "        self.y1 = y1\n",
    "        self.x2 = x2\n",
    "        self.y2 = y2\n",
    "\n",
    "    def slope(self):\n",
    "        # Calculate the slope of the line using the formula (y2 - y1) / (x2 - x1)\n",
    "        if self.x2 - self.x1 == 0:\n",
    "            return \"Slope is undefined (vertical line)\"\n",
    "        return (self.y2 - self.y1) / (self.x2 - self.x1)\n",
    "\n",
    "# Take inputs from the user at runtime\n",
    "x1 = int(input(\"Enter the x-coordinate of the first point: \"))\n",
    "y1 = int(input(\"Enter the y-coordinate of the first point: \"))\n",
    "x2 = int(input(\"Enter the x-coordinate of the second point: \"))\n",
    "y2 = int(input(\"Enter the y-coordinate of the second point: \"))\n",
    "\n",
    "# Create an instance of the Point class\n",
    "point = Point(x1, y1, x2, y2)\n",
    "\n",
    "# Call the slope method and print the result\n",
    "print(\"The slope of the line is:\", point.slope())\n"
   ]
  },
  {
   "cell_type": "code",
   "execution_count": null,
   "id": "b0941697-37b7-403b-aa56-4df8d490d74b",
   "metadata": {},
   "outputs": [],
   "source": []
  }
 ],
 "metadata": {
  "kernelspec": {
   "display_name": "Python 3",
   "language": "python",
   "name": "python3"
  },
  "language_info": {
   "codemirror_mode": {
    "name": "ipython",
    "version": 3
   },
   "file_extension": ".py",
   "mimetype": "text/x-python",
   "name": "python",
   "nbconvert_exporter": "python",
   "pygments_lexer": "ipython3",
   "version": "3.11.7"
  }
 },
 "nbformat": 4,
 "nbformat_minor": 5
}
