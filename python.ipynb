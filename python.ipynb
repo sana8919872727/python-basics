{
 "cells": [
  {
   "cell_type": "code",
   "execution_count": 5,
   "id": "a57fd9c6-4c6c-41ee-8029-345794b180a1",
   "metadata": {},
   "outputs": [
    {
     "name": "stdin",
     "output_type": "stream",
     "text": [
      "enter car market price:  100\n",
      "enter male or female: male\n",
      "enter your age: 26\n"
     ]
    },
    {
     "name": "stdout",
     "output_type": "stream",
     "text": [
      "23.0\n"
     ]
    }
   ],
   "source": [
    "car_market_price = float(input(\"enter car market price: \"))\n",
    "gender=input(\"enter male or female:\")\n",
    "if(gender=='male'):\n",
    "    age=float(input(\"enter your age:\"))\n",
    "    if(age<=26):\n",
    "        insurence_percentage=23\n",
    "        insurence_claim=car_market_price*insurence_percentage//100\n",
    "        print(insurence_claim)\n",
    "    else:\n",
    "        insurence_percentage=9\n",
    "        insurence_claim=car_market_price*insurence_percentage//100\n",
    "        print(insurence_claim)\n",
    "elif(gender=='female'):\n",
    "    car_type=input(\"enter car type sports or non sports\")\n",
    "    if(car_type==\"sports\"):\n",
    "        insurence_percentage=21\n",
    "        insurence_claim=car_market_price*insurence_percentage//100\n",
    "        print(insurence_claim)\n",
    "    else:\n",
    "        insurence_percentage=10\n",
    "        insurence_claim=car_market_price*insurence_percentage//100\n",
    "        print(insurence_claim)\n",
    "else:\n",
    "    print(\"enter the details correctly:\")"
   ]
  },
  {
   "cell_type": "code",
   "execution_count": null,
   "id": "6054e0a0-84aa-40ac-a754-a25b2f2686ce",
   "metadata": {},
   "outputs": [],
   "source": [
    "car_market_price = float(input(\"Enter car market price: \"))\n",
    "gender = input(\"Enter male or female: \")\n",
    "\n",
    "if gender == 'male':\n",
    "    age = float(input(\"Enter your age: \"))\n",
    "    insurence_percentage = 23 if age <= 26 else 9\n",
    "elif gender == 'female':\n",
    "    car_type = input(\"Enter car type (sports or non-sports): \")\n",
    "    insurence_percentage = 21 if car_type == \"sports\" else 10\n",
    "else:\n",
    "    print(\"Enter the details correctly:\")\n",
    "    exit()\n",
    "\n",
    "insurence_claim = car_market_price * insurence_percentage / 100\n",
    "print(insurence_claim)\n",
    "\n",
    "smallest_so_far = None  \n",
    "print('before', smallest_so_far)  \n",
    "\n",
    "for the_num in [9, 41, 12, 3, 74, 15]:  \n",
    "    if smallest_so_far is None or the_num < smallest_so_far:  \n",
    "        smallest_so_far = the_num  \n",
    "    print(\"the smallest so far\", smallest_so_far)  \n",
    "\n",
    "print('after', smallest_so_far)"
   ]
  },
  {
   "cell_type": "code",
   "execution_count": 3,
   "id": "6e97e84b-9f63-44c5-95f4-8bb1f5208804",
   "metadata": {},
   "outputs": [
    {
     "name": "stdout",
     "output_type": "stream",
     "text": [
      "Sum of the array: 154\n",
      "Sum of the array using sum() function: 154\n"
     ]
    }
   ],
   "source": [
    "numbers = [9,41,12,3,74,15]   \n",
    "total = 0  \n",
    "for num in numbers:  \n",
    "    total += num \n",
    "\n",
    "print(\"Sum of the array:\", total)  \n",
    "\n",
    "# sum() function  \n",
    "sum_of_array= sum(numbers)  \n",
    "print(\"Sum of the array using sum() function:\", sum_of_array)"
   ]
  },
  {
   "cell_type": "code",
   "execution_count": 13,
   "id": "42fd30f2-9209-4541-a72f-de3102ddd466",
   "metadata": {},
   "outputs": [
    {
     "name": "stdout",
     "output_type": "stream",
     "text": [
      "475.0\n"
     ]
    }
   ],
   "source": [
    "def computepay(a,b):\n",
    "    if a>40:\n",
    "        a=a-40\n",
    "        pay=(a*b*1.5)+(40*b)\n",
    "        print(pay)\n",
    "    else:\n",
    "        print(a*b)\n",
    "computepay(45,10)"
   ]
  },
  {
   "cell_type": "code",
   "execution_count": null,
   "id": "2e988a75-7a6d-434d-8ba6-0ef43d5fef9f",
   "metadata": {},
   "outputs": [],
   "source": []
  },
  {
   "cell_type": "code",
   "execution_count": null,
   "id": "8394acb8-6a33-4eff-b24b-514b9fbcc39e",
   "metadata": {},
   "outputs": [],
   "source": []
  }
 ],
 "metadata": {
  "kernelspec": {
   "display_name": "Python 3",
   "language": "python",
   "name": "python3"
  },
  "language_info": {
   "codemirror_mode": {
    "name": "ipython",
    "version": 3
   },
   "file_extension": ".py",
   "mimetype": "text/x-python",
   "name": "python",
   "nbconvert_exporter": "python",
   "pygments_lexer": "ipython3",
   "version": "3.11.7"
  }
 },
 "nbformat": 4,
 "nbformat_minor": 5
}
