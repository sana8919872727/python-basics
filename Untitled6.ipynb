{
 "cells": [
  {
   "cell_type": "code",
   "execution_count": 1,
   "id": "c6b0644b-4632-46bd-954f-51359b471a93",
   "metadata": {},
   "outputs": [
    {
     "name": "stdin",
     "output_type": "stream",
     "text": [
      "enter elements in list: 1 2 3 4\n"
     ]
    }
   ],
   "source": [
    "list1=list(input(\"enter elements in list:\").split(\" \"))"
   ]
  },
  {
   "cell_type": "code",
   "execution_count": 5,
   "id": "1d3be4f7-dc5e-4ec4-ad01-627ee9331a5a",
   "metadata": {},
   "outputs": [],
   "source": [
    "list1=tuple(list1)"
   ]
  },
  {
   "cell_type": "code",
   "execution_count": 6,
   "id": "b8471f02-a8d6-4225-8a29-2662ff4d6f7b",
   "metadata": {},
   "outputs": [
    {
     "data": {
      "text/plain": [
       "tuple"
      ]
     },
     "execution_count": 6,
     "metadata": {},
     "output_type": "execute_result"
    }
   ],
   "source": [
    "type(list1)"
   ]
  },
  {
   "cell_type": "code",
   "execution_count": 7,
   "id": "804c6bf7-c7cf-4ff5-b276-02f02d47d286",
   "metadata": {},
   "outputs": [
    {
     "data": {
      "text/plain": [
       "True"
      ]
     },
     "execution_count": 7,
     "metadata": {},
     "output_type": "execute_result"
    }
   ],
   "source": [
    "'3' in list1"
   ]
  },
  {
   "cell_type": "code",
   "execution_count": 8,
   "id": "1d133d56-1b6e-4e13-814a-355729b0c9a4",
   "metadata": {},
   "outputs": [
    {
     "data": {
      "text/plain": [
       "['__add__',\n",
       " '__class__',\n",
       " '__class_getitem__',\n",
       " '__contains__',\n",
       " '__delattr__',\n",
       " '__dir__',\n",
       " '__doc__',\n",
       " '__eq__',\n",
       " '__format__',\n",
       " '__ge__',\n",
       " '__getattribute__',\n",
       " '__getitem__',\n",
       " '__getnewargs__',\n",
       " '__getstate__',\n",
       " '__gt__',\n",
       " '__hash__',\n",
       " '__init__',\n",
       " '__init_subclass__',\n",
       " '__iter__',\n",
       " '__le__',\n",
       " '__len__',\n",
       " '__lt__',\n",
       " '__mul__',\n",
       " '__ne__',\n",
       " '__new__',\n",
       " '__reduce__',\n",
       " '__reduce_ex__',\n",
       " '__repr__',\n",
       " '__rmul__',\n",
       " '__setattr__',\n",
       " '__sizeof__',\n",
       " '__str__',\n",
       " '__subclasshook__',\n",
       " 'count',\n",
       " 'index']"
      ]
     },
     "execution_count": 8,
     "metadata": {},
     "output_type": "execute_result"
    }
   ],
   "source": [
    "dir(list1)"
   ]
  },
  {
   "cell_type": "code",
   "execution_count": 9,
   "id": "128dc52f-5d8f-45cb-8194-e1fd575cb98d",
   "metadata": {},
   "outputs": [
    {
     "name": "stdout",
     "output_type": "stream",
     "text": [
      "[1, 2, 3, [4, 5]]\n"
     ]
    }
   ],
   "source": [
    "tup=[1,2,3,[4,5]]\n",
    "print(tup)"
   ]
  },
  {
   "cell_type": "code",
   "execution_count": 10,
   "id": "f9f797eb-47ad-46f5-9e79-43e4e1a553df",
   "metadata": {},
   "outputs": [],
   "source": [
    "del tup[3]"
   ]
  },
  {
   "cell_type": "code",
   "execution_count": 11,
   "id": "dc15d9fe-febe-44f5-ade8-e666a67e2632",
   "metadata": {},
   "outputs": [
    {
     "data": {
      "text/plain": [
       "[1, 2, 3]"
      ]
     },
     "execution_count": 11,
     "metadata": {},
     "output_type": "execute_result"
    }
   ],
   "source": [
    "tup"
   ]
  },
  {
   "cell_type": "code",
   "execution_count": null,
   "id": "adb45964-c1bf-4af7-b82e-b54fe5e46b29",
   "metadata": {},
   "outputs": [],
   "source": [
    "\n",
    "\n",
    "\n"
   ]
  },
  {
   "cell_type": "code",
   "execution_count": null,
   "id": "4869e103-4ee3-43a2-9d68-040c6736f552",
   "metadata": {},
   "outputs": [],
   "source": []
  },
  {
   "cell_type": "code",
   "execution_count": null,
   "id": "c2d0e8c7-9ef3-461e-9412-0e00f531ea32",
   "metadata": {},
   "outputs": [],
   "source": []
  },
  {
   "cell_type": "code",
   "execution_count": 2,
   "id": "d0f34a56-42a9-4f81-a062-8cf08871526c",
   "metadata": {},
   "outputs": [
    {
     "name": "stdin",
     "output_type": "stream",
     "text": [
      "enter your name:  sana\n"
     ]
    },
    {
     "name": "stdout",
     "output_type": "stream",
     "text": [
      "sana\n",
      "35000\n"
     ]
    }
   ],
   "source": [
    "class Employee:\n",
    "    pass\n",
    "emp_1=Employee()\n",
    "name=input(\"enter your name: \")\n",
    "emp_1.name= name\n",
    "emp_1.salary=35000\n",
    "print(emp_1.name)\n",
    "print(emp_1.salary)"
   ]
  },
  {
   "cell_type": "code",
   "execution_count": 4,
   "id": "804b16b0-6313-4da2-8a0e-6c5864258a2d",
   "metadata": {},
   "outputs": [
    {
     "name": "stdout",
     "output_type": "stream",
     "text": [
      "<class 'type'>\n"
     ]
    }
   ],
   "source": [
    "print(type(Emplopee))"
   ]
  },
  {
   "cell_type": "code",
   "execution_count": 5,
   "id": "ad6efd70-4fcf-4e52-b8e9-fdc9980b59d8",
   "metadata": {},
   "outputs": [
    {
     "data": {
      "text/plain": [
       "__main__.Employee"
      ]
     },
     "execution_count": 5,
     "metadata": {},
     "output_type": "execute_result"
    }
   ],
   "source": [
    "type(emp_1)"
   ]
  },
  {
   "cell_type": "code",
   "execution_count": 6,
   "id": "67d33959-e3c0-4222-a080-551d7a97ed5e",
   "metadata": {},
   "outputs": [
    {
     "data": {
      "text/plain": [
       "int"
      ]
     },
     "execution_count": 6,
     "metadata": {},
     "output_type": "execute_result"
    }
   ],
   "source": [
    "type(emp_1.salary)"
   ]
  },
  {
   "cell_type": "code",
   "execution_count": 10,
   "id": "a7e814d2-27b6-4714-85ce-0a329f1211d9",
   "metadata": {},
   "outputs": [
    {
     "name": "stdin",
     "output_type": "stream",
     "text": [
      "enter your name: sana\n",
      "enter department name: ai\n",
      "enter salary: 10000\n"
     ]
    },
    {
     "name": "stdout",
     "output_type": "stream",
     "text": [
      "sana\n",
      "ai\n",
      "10000\n"
     ]
    }
   ],
   "source": [
    "class manager:\n",
    "    def __init__(self,name,department,salary):\n",
    "        self.name=name\n",
    "        self.department=department\n",
    "        self.salary=salary\n",
    "name=input(\"enter your name:\")\n",
    "department=input(\"enter department name:\")\n",
    "salary=int(input(\"enter salary:\"))\n",
    "manager_1=manager(name,department,salary)\n",
    "print(manager_1.name)\n",
    "print(manager_1.department)\n",
    "print(manager_1.salary)"
   ]
  },
  {
   "cell_type": "code",
   "execution_count": 13,
   "id": "1ffe6150-8497-43ea-8eca-58c0cb4490c7",
   "metadata": {},
   "outputs": [
    {
     "name": "stdin",
     "output_type": "stream",
     "text": [
      "enter the car name benz\n"
     ]
    },
    {
     "name": "stdout",
     "output_type": "stream",
     "text": [
      "name of the car is: benz\n"
     ]
    }
   ],
   "source": [
    "class Car:\n",
    "    def setname(self,name):\n",
    "        self.name=name\n",
    "    def getname(self):\n",
    "        return self.name\n",
    "\n",
    "Honda=Car()\n",
    "carname=input(\"enter the car name\")\n",
    "Honda.setname(carname)\n",
    "print(\"name of the car is:\",Honda.getname())"
   ]
  },
  {
   "cell_type": "code",
   "execution_count": 17,
   "id": "509adc19-4f9a-4a6b-a2a5-fe9dd5c04f66",
   "metadata": {},
   "outputs": [
    {
     "name": "stdin",
     "output_type": "stream",
     "text": [
      "enter the name : SANA\n",
      "enter thr age: 22\n"
     ]
    },
    {
     "name": "stdout",
     "output_type": "stream",
     "text": [
      "SANA\n",
      "22\n"
     ]
    },
    {
     "name": "stdin",
     "output_type": "stream",
     "text": [
      "enter the name : BEGUM\n",
      "enter thr age: 22\n"
     ]
    },
    {
     "name": "stdout",
     "output_type": "stream",
     "text": [
      "BEGUM\n",
      "22\n"
     ]
    }
   ],
   "source": [
    "class Student:\n",
    "    def __init__(self,name,age):\n",
    "        self.name=name\n",
    "        self.age=age\n",
    "name=input(\"enter the name :\")\n",
    "age =int(input(\"enter thr age:\"))\n",
    "student_1=Student(name,age)\n",
    "print(student_1.name)\n",
    "print(student_1.age)\n",
    "name=input(\"enter the name :\")\n",
    "age =int(input(\"enter thr age:\"))\n",
    "student_2=Student(name,age)\n",
    "print(student_2.name)\n",
    "print(student_2.age)"
   ]
  },
  {
   "cell_type": "code",
   "execution_count": null,
   "id": "b89b44da-6841-4b34-9233-b73da5a0ab62",
   "metadata": {},
   "outputs": [],
   "source": []
  }
 ],
 "metadata": {
  "kernelspec": {
   "display_name": "Python 3",
   "language": "python",
   "name": "python3"
  },
  "language_info": {
   "codemirror_mode": {
    "name": "ipython",
    "version": 3
   },
   "file_extension": ".py",
   "mimetype": "text/x-python",
   "name": "python",
   "nbconvert_exporter": "python",
   "pygments_lexer": "ipython3",
   "version": "3.11.7"
  }
 },
 "nbformat": 4,
 "nbformat_minor": 5
}
